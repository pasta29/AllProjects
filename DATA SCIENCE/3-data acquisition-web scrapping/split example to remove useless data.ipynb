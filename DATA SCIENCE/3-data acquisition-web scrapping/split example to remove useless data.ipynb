{
 "cells": [
  {
   "cell_type": "code",
   "execution_count": 15,
   "metadata": {},
   "outputs": [
    {
     "data": {
      "text/plain": [
       "['No codename', '1.0', 'September 23, 2008', '1', '[2]']"
      ]
     },
     "execution_count": 15,
     "metadata": {},
     "output_type": "execute_result"
    }
   ],
   "source": [
    "li=['No codename', 'Old version, no longer supported: 1.0', 'September 23, 2008', '1', '[2]']\n",
    "current_row=[]\n",
    "for idx,data in enumerate(li): \n",
    "        if idx==1:\n",
    "            current_row.append(data.split(': ')[-1])\n",
    "        else:\n",
    "            current_row.append(data)\n",
    "        \n",
    "current_row        \n"
   ]
  }
 ],
 "metadata": {
  "kernelspec": {
   "display_name": "Python 3",
   "language": "python",
   "name": "python3"
  },
  "language_info": {
   "codemirror_mode": {
    "name": "ipython",
    "version": 3
   },
   "file_extension": ".py",
   "mimetype": "text/x-python",
   "name": "python",
   "nbconvert_exporter": "python",
   "pygments_lexer": "ipython3",
   "version": "3.7.3"
  }
 },
 "nbformat": 4,
 "nbformat_minor": 2
}
