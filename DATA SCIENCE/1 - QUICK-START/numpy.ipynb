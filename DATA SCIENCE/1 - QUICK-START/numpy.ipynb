{
 "cells": [
  {
   "cell_type": "code",
   "execution_count": 1,
   "metadata": {},
   "outputs": [
    {
     "name": "stdout",
     "output_type": "stream",
     "text": [
      "Collecting numpy\n",
      "  Downloading https://files.pythonhosted.org/packages/bd/51/7df1a3858ff0465f760b482514f1292836f8be08d84aba411b48dda72fa9/numpy-1.17.2-cp37-cp37m-win_amd64.whl (12.8MB)\n",
      "Installing collected packages: numpy\n",
      "Successfully installed numpy-1.17.2\n"
     ]
    },
    {
     "name": "stderr",
     "output_type": "stream",
     "text": [
      "WARNING: You are using pip version 19.1.1, however version 19.2.3 is available.\n",
      "You should consider upgrading via the 'python -m pip install --upgrade pip' command.\n"
     ]
    }
   ],
   "source": [
    "!pip install numpy"
   ]
  },
  {
   "cell_type": "code",
   "execution_count": 6,
   "metadata": {},
   "outputs": [
    {
     "name": "stdout",
     "output_type": "stream",
     "text": [
      "[1 2 3 4]\n",
      "<class 'numpy.ndarray'>\n"
     ]
    },
    {
     "data": {
      "text/plain": [
       "(4,)"
      ]
     },
     "execution_count": 6,
     "metadata": {},
     "output_type": "execute_result"
    }
   ],
   "source": [
    "#it's brief explanation,so don't worry if u can't understand, later on it's explained in detail \n",
    "import numpy as np #u can use any variable other than np also\n",
    "a=np.array([1,2,3,4]) #it will be numpy array\n",
    "print(a)\n",
    "print(type(a))\n",
    "a.shape #it's for dimension i.e (no. of rows, no.of columns)"
   ]
  },
  {
   "cell_type": "code",
   "execution_count": 7,
   "metadata": {},
   "outputs": [
    {
     "name": "stdout",
     "output_type": "stream",
     "text": [
      "[[1 2 3 4]\n",
      " [5 6 7 8]]\n",
      "(2, 4)\n"
     ]
    }
   ],
   "source": [
    "#2-d numpy array\n",
    "b=np.array([[1,2,3,4],[5,6,7,8]])\n",
    "print(b)\n",
    "print(b.shape)"
   ]
  },
  {
   "cell_type": "code",
   "execution_count": 10,
   "metadata": {},
   "outputs": [
    {
     "data": {
      "text/plain": [
       "array([[1, 5],\n",
       "       [2, 6],\n",
       "       [3, 7],\n",
       "       [4, 8]])"
      ]
     },
     "execution_count": 10,
     "metadata": {},
     "output_type": "execute_result"
    }
   ],
   "source": [
    "#to take transpose of 2-d array b\n",
    "c=b.T\n",
    "c\n"
   ]
  },
  {
   "cell_type": "code",
   "execution_count": 13,
   "metadata": {},
   "outputs": [
    {
     "data": {
      "text/plain": [
       "array([[ 30,  70],\n",
       "       [ 70, 174]])"
      ]
     },
     "execution_count": 13,
     "metadata": {},
     "output_type": "execute_result"
    }
   ],
   "source": [
    "#taking dot product of b matrix and c matrix\n",
    "np.dot(b,c)"
   ]
  },
  {
   "cell_type": "code",
   "execution_count": 15,
   "metadata": {},
   "outputs": [
    {
     "data": {
      "text/plain": [
       "array([94, 67, 66, 68, 89, 82, 93, 99, 91, 95])"
      ]
     },
     "execution_count": 15,
     "metadata": {},
     "output_type": "execute_result"
    }
   ],
   "source": [
    "#creating a random array\n",
    "np.random.randint(60,100,10) #range 60 to 100,marks of 10 students\n"
   ]
  },
  {
   "cell_type": "code",
   "execution_count": 17,
   "metadata": {},
   "outputs": [
    {
     "name": "stdout",
     "output_type": "stream",
     "text": [
      "[[73 76 71 86 62]\n",
      " [73 75 86 69 95]\n",
      " [92 70 77 77 81]\n",
      " [83 62 71 82 84]\n",
      " [91 61 70 84 83]]\n"
     ]
    }
   ],
   "source": [
    "#random 2-d array\n",
    "matrix=np.random.randint(60,100,(5,5)) #range 60 to 100, (5,5)-rows and columns\n",
    "print(matrix)"
   ]
  },
  {
   "cell_type": "code",
   "execution_count": 19,
   "metadata": {},
   "outputs": [
    {
     "name": "stdout",
     "output_type": "stream",
     "text": [
      "95 61\n"
     ]
    }
   ],
   "source": [
    "#to find largest/smallest element in matrix\n",
    "x=np.max(matrix)\n",
    "y=np.min(matrix)\n",
    "print(x,y)"
   ]
  },
  {
   "cell_type": "code",
   "execution_count": 21,
   "metadata": {},
   "outputs": [
    {
     "data": {
      "text/plain": [
       "3"
      ]
     },
     "execution_count": 21,
     "metadata": {},
     "output_type": "execute_result"
    }
   ],
   "source": [
    "#to find minimum value's index number\n",
    "a=np.array([0,1,3,-4,5,6,7])\n",
    "b=np.argmin(a)\n",
    "b"
   ]
  },
  {
   "cell_type": "code",
   "execution_count": 27,
   "metadata": {},
   "outputs": [
    {
     "name": "stdout",
     "output_type": "stream",
     "text": [
      "(array([1, 2, 3, 4, 5, 6, 7]), array([1, 1, 1, 2, 3, 2, 1], dtype=int64))\n",
      "[1 2 3 4 5 6 7]\n",
      "[1 1 1 2 3 2 1]\n"
     ]
    }
   ],
   "source": [
    "#to find unique numbers i.e repeating numbers will be present only once \n",
    "a=np.array([1,2,3,4,4,5,5,5,6,6,7])\n",
    "b=np.unique(a,return_counts=True) #output will be sorted array \n",
    "print(b)            #return_count=True will give no. of occurrence of each element\n",
    "print(b[0])\n",
    "print(b[1])\n"
   ]
  },
  {
   "cell_type": "code",
   "execution_count": 29,
   "metadata": {},
   "outputs": [
    {
     "name": "stdout",
     "output_type": "stream",
     "text": [
      "4\n",
      "5\n"
     ]
    }
   ],
   "source": [
    "#find number with highest frequency in array\n",
    "a=np.array([1,2,3,4,4,5,5,5,6,6,7])\n",
    "b=np.unique(a,return_counts=True)\n",
    "index=np.argmax(b[1]) #index with highest frequency\n",
    "print(index)\n",
    "element=b[0][index]\n",
    "print(element)\n"
   ]
  },
  {
   "cell_type": "code",
   "execution_count": 32,
   "metadata": {},
   "outputs": [
    {
     "name": "stdout",
     "output_type": "stream",
     "text": [
      "[[88 60 84 90 95]\n",
      " [89 68 95 90 90]\n",
      " [72 74 85 97 80]\n",
      " [87 71 62 96 88]\n",
      " [89 69 79 84 74]]\n",
      "[[74 85 97]\n",
      " [71 62 96]]\n"
     ]
    }
   ],
   "source": [
    "#slicing arrays\n",
    "matrix=np.random.randint(60,100,(5,5)) #5*5 matrix with values from 60-100\n",
    "print(matrix)\n",
    "#slicing syntax [rows,columns] rows=start:end+1 columns=start:end+1\n",
    "c=matrix[2:4,1:4] #from 2nd to 3th row, & 1st to 3th column\n",
    "print(c)          #note-row and column counting starts from 0\n",
    "                 "
   ]
  },
  {
   "cell_type": "code",
   "execution_count": 3,
   "metadata": {},
   "outputs": [
    {
     "ename": "ModuleNotFoundError",
     "evalue": "No module named 'matplotlib'",
     "output_type": "error",
     "traceback": [
      "\u001b[1;31m---------------------------------------------------------------------------\u001b[0m",
      "\u001b[1;31mModuleNotFoundError\u001b[0m                       Traceback (most recent call last)",
      "\u001b[1;32m<ipython-input-3-4b2327a01d94>\u001b[0m in \u001b[0;36m<module>\u001b[1;34m\u001b[0m\n\u001b[0;32m      1\u001b[0m \u001b[1;31m#DATA VISUALIZATION\u001b[0m\u001b[1;33m\u001b[0m\u001b[1;33m\u001b[0m\u001b[1;33m\u001b[0m\u001b[0m\n\u001b[1;32m----> 2\u001b[1;33m \u001b[1;32mimport\u001b[0m \u001b[0mmatplotlib\u001b[0m\u001b[1;33m.\u001b[0m\u001b[0mpyplot\u001b[0m \u001b[1;32mas\u001b[0m \u001b[0mplt\u001b[0m\u001b[1;33m\u001b[0m\u001b[1;33m\u001b[0m\u001b[0m\n\u001b[0m",
      "\u001b[1;31mModuleNotFoundError\u001b[0m: No module named 'matplotlib'"
     ]
    }
   ],
   "source": [
    "#DATA VISUALIZATION\n",
    "import matplotlib.pyplot as plt"
   ]
  }
 ],
 "metadata": {
  "kernelspec": {
   "display_name": "Python 3",
   "language": "python",
   "name": "python3"
  },
  "language_info": {
   "codemirror_mode": {
    "name": "ipython",
    "version": 3
   },
   "file_extension": ".py",
   "mimetype": "text/x-python",
   "name": "python",
   "nbconvert_exporter": "python",
   "pygments_lexer": "ipython3",
   "version": "3.7.3"
  }
 },
 "nbformat": 4,
 "nbformat_minor": 2
}
