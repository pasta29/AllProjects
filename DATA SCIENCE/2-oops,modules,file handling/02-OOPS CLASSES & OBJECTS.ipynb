{
 "cells": [
  {
   "cell_type": "code",
   "execution_count": 5,
   "metadata": {},
   "outputs": [
    {
     "name": "stdout",
     "output_type": "stream",
     "text": [
      "hello sam\n"
     ]
    }
   ],
   "source": [
    "#defining a class namely person\n",
    "class person():\n",
    "    \n",
    "    def sayhi(self,name):#using 'self' means this function can access attributes of the class\n",
    "        print('hello ' + name)\n",
    "        \n",
    "p=person()        \n",
    "p.sayhi('sam')        "
   ]
  },
  {
   "cell_type": "code",
   "execution_count": 9,
   "metadata": {},
   "outputs": [
    {
     "name": "stdout",
     "output_type": "stream",
     "text": [
      "hello world\n",
      "my name is prateek\n",
      "I am from coding blocks\n",
      "\n",
      "my name is sam\n",
      "I am from adobe\n"
     ]
    }
   ],
   "source": [
    "#example\n",
    "class person():\n",
    "    def __init__(self,pname,clg):\n",
    "        #init is method to initialize attributes of a class\n",
    "        self.name=pname\n",
    "        self.college=clg\n",
    "        \n",
    "    def sayhi(self,name):\n",
    "        print('hello '+ name)\n",
    "        \n",
    "    def introduce(self):#this function is being used to print __init__ values\n",
    "        print('my name is',self.name)\n",
    "        print('I am from',self.college)\n",
    "        \n",
    "p=person('prateek','coding blocks')  \n",
    "p.sayhi('world')\n",
    "p.introduce()\n",
    "print()\n",
    "\n",
    "p2=person('sam','adobe')\n",
    "p2.introduce()\n",
    "        \n",
    "        "
   ]
  },
  {
   "cell_type": "code",
   "execution_count": 10,
   "metadata": {},
   "outputs": [
    {
     "name": "stdout",
     "output_type": "stream",
     "text": [
      "hello world\n",
      "my name is prateek\n",
      "I am from coding blocks\n",
      "I am Indian\n",
      "\n",
      "my name is sam\n",
      "I am from adobe\n",
      "I am Indian\n"
     ]
    }
   ],
   "source": [
    "#example of class variable\n",
    "#example\n",
    "class person():\n",
    "    #nationality is class variable i.e common for all objects of same class\n",
    "    nationality='Indian'\n",
    "    \n",
    "    \n",
    "    def __init__(self,pname,clg):\n",
    "        #init is method to initialize attributes of a class\n",
    "        self.name=pname#these are instance variable \n",
    "        self.college=clg#these are different for every instance/object of class\n",
    "        \n",
    "    def sayhi(self,name):\n",
    "        print('hello '+ name)\n",
    "        \n",
    "    def introduce(self):#this function is being used to print __init__ values\n",
    "        print('my name is',self.name)\n",
    "        print('I am from',self.college)\n",
    "        print('I am',self.nationality)\n",
    "        \n",
    "p=person('prateek','coding blocks')  \n",
    "p.sayhi('world')\n",
    "p.introduce()\n",
    "print()\n",
    "\n",
    "p2=person('sam','adobe')\n",
    "p2.introduce()\n",
    "        \n",
    "        "
   ]
  },
  {
   "cell_type": "code",
   "execution_count": 13,
   "metadata": {},
   "outputs": [
    {
     "name": "stdout",
     "output_type": "stream",
     "text": [
      "german shepherd\n",
      "['high jump']\n",
      "golden retriever\n",
      "['roll over']\n"
     ]
    }
   ],
   "source": [
    "#oops example\n",
    "class dog():\n",
    "    \n",
    "    colour='brown'\n",
    "    #activities=[],declaring it here will result in 1 dog having attributes of all dog bcz it's common\n",
    "    \n",
    "    def __init__(self,breed):\n",
    "        self.breed=breed\n",
    "        self.activities=[]\n",
    "    \n",
    "    def addactivity(self,act):\n",
    "        self.activities.append(act)\n",
    "        \n",
    "    def doactivities(self):#this function is being used to print output\n",
    "        print(self.breed)\n",
    "        print(self.activities)\n",
    "        \n",
    "d1=dog('german shepherd')\n",
    "d2=dog('golden retriever')\n",
    "\n",
    "d1.addactivity('high jump')\n",
    "d2.addactivity('roll over')\n",
    "\n",
    "d1.doactivities()\n",
    "d2.doactivities()"
   ]
  }
 ],
 "metadata": {
  "kernelspec": {
   "display_name": "Python 3",
   "language": "python",
   "name": "python3"
  },
  "language_info": {
   "codemirror_mode": {
    "name": "ipython",
    "version": 3
   },
   "file_extension": ".py",
   "mimetype": "text/x-python",
   "name": "python",
   "nbconvert_exporter": "python",
   "pygments_lexer": "ipython3",
   "version": "3.7.3"
  }
 },
 "nbformat": 4,
 "nbformat_minor": 2
}
