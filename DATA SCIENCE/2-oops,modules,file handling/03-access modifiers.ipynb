{
 "cells": [
  {
   "cell_type": "code",
   "execution_count": 5,
   "metadata": {},
   "outputs": [
    {
     "name": "stdout",
     "output_type": "stream",
     "text": [
      "german shepherd\n",
      "['high jump']\n",
      "doing secret activity german shepherd\n",
      "golden retriever\n",
      "['roll over']\n",
      "doing secret activity golden retriever\n"
     ]
    }
   ],
   "source": [
    "#creating a private function/object in class\n",
    "#by default all class attributes are public\n",
    "class dog():\n",
    "    \n",
    "    colour='brown'\n",
    "    def __secretactivity(self): #'2 times underscore' is used to declare it private\n",
    "                                #private object can't be called directly \n",
    "        print('doing secret activity',self.breed)\n",
    "        \n",
    "    \n",
    "    def __init__(self,breed):\n",
    "        '''this object accepts breed of the dog and initialises it'''#it's description\n",
    "        self.breed=breed\n",
    "        self.activities=[]\n",
    "    \n",
    "    def addactivity(self,act):\n",
    "        '''it's for adding activities of dog '''\n",
    "        self.activities.append(act)\n",
    "        \n",
    "    def doactivities(self):#this function is being used to print output\n",
    "        print(self.breed)\n",
    "        print(self.activities)\n",
    "        self.__secretactivity()#it's private that's y being called through public object\n",
    "        \n",
    "d1=dog('german shepherd')\n",
    "d2=dog('golden retriever')\n",
    "\n",
    "d1.addactivity('high jump')\n",
    "d2.addactivity('roll over')\n",
    "\n",
    "d1.doactivities()\n",
    "d2.doactivities()\n",
    "#dog?, by using this u can check the description of dog function\n",
    "#d2.addactivity?, similarly this can be used to see description of object"
   ]
  }
 ],
 "metadata": {
  "kernelspec": {
   "display_name": "Python 3",
   "language": "python",
   "name": "python3"
  },
  "language_info": {
   "codemirror_mode": {
    "name": "ipython",
    "version": 3
   },
   "file_extension": ".py",
   "mimetype": "text/x-python",
   "name": "python",
   "nbconvert_exporter": "python",
   "pygments_lexer": "ipython3",
   "version": "3.7.3"
  }
 },
 "nbformat": 4,
 "nbformat_minor": 2
}
