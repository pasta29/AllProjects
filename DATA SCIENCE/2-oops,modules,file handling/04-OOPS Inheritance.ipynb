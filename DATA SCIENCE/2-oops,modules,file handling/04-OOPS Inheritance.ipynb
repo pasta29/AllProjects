{
 "cells": [
  {
   "cell_type": "code",
   "execution_count": 4,
   "metadata": {},
   "outputs": [
    {
     "name": "stdout",
     "output_type": "stream",
     "text": [
      "Initialize school member: Mr.Alpha\n",
      "intialize teacher: Mr.Alpha\n",
      "name:Mr.Alpha 30\n",
      "salary: 45000\n"
     ]
    }
   ],
   "source": [
    "#inheritance\n",
    "class SchoolMember(): #it's a base class\n",
    "    def __init__(self,name,age):\n",
    "        self.name=name\n",
    "        self.age=age\n",
    "        print('Initialize school member: %s'%self.name)\n",
    "        \n",
    "    def introduce(self):\n",
    "        print('name:%s %d'%(self.name,self.age))\n",
    "    \n",
    "    def staff(self):\n",
    "        print('we are staff')\n",
    "        \n",
    "        \n",
    "class Teacher(SchoolMember):#derived class, in which we will use inhertinace\n",
    "    def __init__(self,name,age,salary):\n",
    "        SchoolMember.__init__(self,name,age) #inheritance\n",
    "        self.salary=salary\n",
    "        print('intialize teacher: %s'%self.name)\n",
    "        \n",
    "    def introduce(self):\n",
    "        SchoolMember.introduce(self)\n",
    "        print('salary: %d'%self.salary)\n",
    "        \n",
    "\n",
    "t=Teacher('Mr.Alpha',30,45000) \n",
    "t.introduce()\n",
    "\n",
    "    \n",
    "        \n",
    "        \n",
    "    \n",
    "        \n",
    "    "
   ]
  },
  {
   "cell_type": "code",
   "execution_count": 7,
   "metadata": {},
   "outputs": [
    {
     "name": "stdout",
     "output_type": "stream",
     "text": [
      "Initialize school member: Mr.Alpha\n",
      "intialize teacher: Mr.Alpha\n",
      "\n",
      "name:Mr.Alpha 30\n",
      "salary: 45000\n",
      "\n",
      "Initialize school member: xyz\n",
      "name:xyz 15\n",
      "marks: 90\n"
     ]
    }
   ],
   "source": [
    "#example with one more derived class student\n",
    "#inheritance\n",
    "class SchoolMember(): #it's a base class\n",
    "    def __init__(self,name,age):\n",
    "        self.name=name\n",
    "        self.age=age\n",
    "        print('Initialize school member: %s'%self.name)\n",
    "        \n",
    "    def introduce(self):\n",
    "        print('name:%s %d'%(self.name,self.age))\n",
    "        \n",
    "        \n",
    "class Teacher(SchoolMember):#derived class, in which we will use inhertinace,derived from SchoolMember\n",
    "    def __init__(self,name,age,salary):\n",
    "        SchoolMember.__init__(self,name,age) #inheritance\n",
    "        self.salary=salary\n",
    "        print('intialize teacher: %s'%self.name)\n",
    "        \n",
    "    def introduce(self):\n",
    "        SchoolMember.introduce(self)\n",
    "        print('salary: %d'%self.salary)\n",
    "        \n",
    "        \n",
    "class Student(SchoolMember):\n",
    "    '''represents a school student'''\n",
    "    def __init__(self,name,age,marks):\n",
    "        SchoolMember.__init__(self,name,age)#inherited from school member\n",
    "        self.marks=marks\n",
    "    \n",
    "    def introduce(self):\n",
    "        SchoolMember.introduce(self)\n",
    "        print('marks: %d'%self.marks)\n",
    "        \n",
    "\n",
    "t=Teacher('Mr.Alpha',30,45000) \n",
    "print()\n",
    "t.introduce()\n",
    "print()\n",
    "\n",
    "s=Student('xyz',15,90)\n",
    "s.introduce()\n",
    "    \n",
    "        \n",
    "        \n",
    "    \n",
    "        \n",
    "    \n",
    "\n"
   ]
  }
 ],
 "metadata": {
  "kernelspec": {
   "display_name": "Python 3",
   "language": "python",
   "name": "python3"
  },
  "language_info": {
   "codemirror_mode": {
    "name": "ipython",
    "version": 3
   },
   "file_extension": ".py",
   "mimetype": "text/x-python",
   "name": "python",
   "nbconvert_exporter": "python",
   "pygments_lexer": "ipython3",
   "version": "3.7.3"
  }
 },
 "nbformat": 4,
 "nbformat_minor": 2
}
