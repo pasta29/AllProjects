{
 "cells": [
  {
   "cell_type": "code",
   "execution_count": 1,
   "metadata": {},
   "outputs": [
    {
     "ename": "FileNotFoundError",
     "evalue": "[Errno 2] No such file or directory: 'somemissingfile.txt'",
     "output_type": "error",
     "traceback": [
      "\u001b[1;31m---------------------------------------------------------------------------\u001b[0m",
      "\u001b[1;31mFileNotFoundError\u001b[0m                         Traceback (most recent call last)",
      "\u001b[1;32m<ipython-input-1-aeb6e6c8e1e7>\u001b[0m in \u001b[0;36m<module>\u001b[1;34m\u001b[0m\n\u001b[1;32m----> 1\u001b[1;33m \u001b[0mf\u001b[0m\u001b[1;33m=\u001b[0m\u001b[0mopen\u001b[0m\u001b[1;33m(\u001b[0m\u001b[1;34m'somemissingfile.txt'\u001b[0m\u001b[1;33m,\u001b[0m\u001b[1;34m'r'\u001b[0m\u001b[1;33m)\u001b[0m\u001b[1;33m\u001b[0m\u001b[1;33m\u001b[0m\u001b[0m\n\u001b[0m",
      "\u001b[1;31mFileNotFoundError\u001b[0m: [Errno 2] No such file or directory: 'somemissingfile.txt'"
     ]
    }
   ],
   "source": [
    "f=open('somemissingfile.txt','r')\n",
    "#exception handling is for run time errors such as following,\n",
    "#u can change format of following error by exceptional handling"
   ]
  },
  {
   "cell_type": "code",
   "execution_count": 2,
   "metadata": {},
   "outputs": [
    {
     "name": "stdout",
     "output_type": "stream",
     "text": [
      "something went wrong\n"
     ]
    }
   ],
   "source": [
    "try:\n",
    "    f=open('somemissingfile.txt','r')\n",
    "    \n",
    "except:\n",
    "    print('something went wrong') #this will be printed if error ocuurs"
   ]
  },
  {
   "cell_type": "code",
   "execution_count": 13,
   "metadata": {},
   "outputs": [
    {
     "name": "stdout",
     "output_type": "stream",
     "text": [
      "file does not exist plz re-uupload\n"
     ]
    }
   ],
   "source": [
    "try:\n",
    "    \n",
    "    f=open('somemissingfile.txt','r')\n",
    "    \n",
    "except FileNotFoundError:\n",
    "    print('file does not exist plz re-uupload')\n",
    "    \n",
    "except Exception:#this will be executed for genaralised error such as 10/0\n",
    "    print('something went wrong')"
   ]
  },
  {
   "cell_type": "code",
   "execution_count": 14,
   "metadata": {},
   "outputs": [
    {
     "name": "stdout",
     "output_type": "stream",
     "text": [
      "print variable b is not defined\n"
     ]
    }
   ],
   "source": [
    "try:\n",
    "    \n",
    "    a=b\n",
    "    \n",
    "except FileNotFoundError:\n",
    "    print('file does not exist plz re-uupload')\n",
    "    \n",
    "except NameError:# to figure out what went wrong,example not defined error  \n",
    "    print('print variable b is not defined')\n",
    "    \n",
    "except Exception:#this will be executed for genaralised error such as 10/0\n",
    "    print('something went wrong')"
   ]
  },
  {
   "cell_type": "code",
   "execution_count": 15,
   "metadata": {},
   "outputs": [
    {
     "name": "stdout",
     "output_type": "stream",
     "text": [
      "enter your namemehboob\n",
      "try executed without any error\n"
     ]
    }
   ],
   "source": [
    "#if there is no error then u can have an else block\n",
    "try:\n",
    "    \n",
    "    a=input('enter your name')\n",
    "    \n",
    "except FileNotFoundError:\n",
    "    print('file does not exist plz re-uupload')\n",
    "    \n",
    "except NameError:# to figure out what went wrong,example not defined error  \n",
    "    print('print variable b is not defined')\n",
    "    \n",
    "except Exception:#this will be executed for genaralised error such as 10/0\n",
    "    print('something went wrong')\n",
    "    \n",
    "else:\n",
    "    print('try executed without any error')"
   ]
  },
  {
   "cell_type": "code",
   "execution_count": 17,
   "metadata": {},
   "outputs": [
    {
     "name": "stdout",
     "output_type": "stream",
     "text": [
      "enter your name\n",
      "bk\n",
      "enter a valid name\n"
     ]
    }
   ],
   "source": [
    "#another example\n",
    "try:\n",
    "    \n",
    "    a=input('enter your name\\n')\n",
    "    if len(a)<3:\n",
    "        raise Exception\n",
    "    \n",
    "except FileNotFoundError:\n",
    "    print('file does not exist plz re-uupload')\n",
    "    \n",
    "except NameError:# to figure out what went wrong,example not defined error  \n",
    "    print('print variable b is not defined')\n",
    "    \n",
    "except Exception:#this will be executed for genaralised error such as 10/0\n",
    "    print('enter a valid name')"
   ]
  },
  {
   "cell_type": "code",
   "execution_count": 18,
   "metadata": {},
   "outputs": [
    {
     "name": "stdout",
     "output_type": "stream",
     "text": [
      "enter your name\n",
      "d\n",
      "enter a valid name\n",
      "it is always there\n"
     ]
    }
   ],
   "source": [
    "#finally block is always executed whether there is error or not\n",
    "\n",
    "try:\n",
    "    \n",
    "    a=input('enter your name\\n')\n",
    "    if len(a)<3:\n",
    "        raise Exception\n",
    "    \n",
    "except FileNotFoundError:\n",
    "    print('file does not exist plz re-uupload')\n",
    "    \n",
    "except NameError:# to figure out what went wrong,example not defined error  \n",
    "    print('print variable b is not defined')\n",
    "    \n",
    "except Exception:#this will be executed for genaralised error such as 10/0\n",
    "    print('enter a valid name')\n",
    "    \n",
    "finally:\n",
    "    print('it is always there' )"
   ]
  }
 ],
 "metadata": {
  "kernelspec": {
   "display_name": "Python 3",
   "language": "python",
   "name": "python3"
  },
  "language_info": {
   "codemirror_mode": {
    "name": "ipython",
    "version": 3
   },
   "file_extension": ".py",
   "mimetype": "text/x-python",
   "name": "python",
   "nbconvert_exporter": "python",
   "pygments_lexer": "ipython3",
   "version": "3.7.3"
  }
 },
 "nbformat": 4,
 "nbformat_minor": 2
}
