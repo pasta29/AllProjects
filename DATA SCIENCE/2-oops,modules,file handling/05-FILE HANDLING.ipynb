{
 "cells": [
  {
   "cell_type": "code",
   "execution_count": 6,
   "metadata": {},
   "outputs": [
    {
     "data": {
      "text/plain": [
       "'THIS IS SAMPLE FILE'"
      ]
     },
     "execution_count": 6,
     "metadata": {},
     "output_type": "execute_result"
    }
   ],
   "source": [
    "a=open('D:\\DATA SCIENCE\\sublime files\\sample.txt','r')#open this file in read mode\n",
    "a.read()#read this file "
   ]
  },
  {
   "cell_type": "code",
   "execution_count": null,
   "metadata": {},
   "outputs": [],
   "source": [
    "#a.close()#it will close file"
   ]
  },
  {
   "cell_type": "code",
   "execution_count": 10,
   "metadata": {},
   "outputs": [],
   "source": [
    "a=open('D:\\DATA SCIENCE\\sublime files\\sample.txt','w')#open in write mode\n",
    "content='hello world\\n'\n",
    "li=[content]*3\n",
    "a.writelines(li)#this method is used to write list elements in a file\n",
    "a.close()\n"
   ]
  },
  {
   "cell_type": "code",
   "execution_count": 11,
   "metadata": {},
   "outputs": [],
   "source": [
    "a=open('D:\\DATA SCIENCE\\sublime files\\sample2.txt','w')#file name doesn't exist so it will be created \n",
    "content='hello world'\n",
    "\n",
    "a.write(content)#if u have to write a string directly in file then this can be used\n",
    "a.close()\n"
   ]
  },
  {
   "cell_type": "code",
   "execution_count": 21,
   "metadata": {},
   "outputs": [
    {
     "name": "stdout",
     "output_type": "stream",
     "text": [
      "hello world\n",
      "hello world\n",
      "hello world\n",
      "\n"
     ]
    }
   ],
   "source": [
    "# Reading from a file\n",
    "f=open('D:\\DATA SCIENCE\\sublime files\\sample.txt','r')#opening in read mode\n",
    "print(f.read()) #reads the file & gives the content in output\n",
    "f.close()\n",
    "\n",
    "\n",
    "\n"
   ]
  },
  {
   "cell_type": "code",
   "execution_count": 22,
   "metadata": {},
   "outputs": [
    {
     "name": "stdout",
     "output_type": "stream",
     "text": [
      "hello world\n",
      "\n"
     ]
    }
   ],
   "source": [
    "g=open('D:\\DATA SCIENCE\\sublime files\\sample.txt','r')#opening in read mode\n",
    "print(g.readline())#this command will only read first line of file\n",
    "g.close()"
   ]
  },
  {
   "cell_type": "code",
   "execution_count": 23,
   "metadata": {},
   "outputs": [
    {
     "name": "stdout",
     "output_type": "stream",
     "text": [
      "['hello world\\n', 'hello world\\n', 'hello world\\n']\n"
     ]
    }
   ],
   "source": [
    "h=open('D:\\DATA SCIENCE\\sublime files\\sample.txt','r')#opening in read mode\n",
    "print(h.readlines())#it will create list, each element of list will be a line\n",
    "h.close()\n"
   ]
  },
  {
   "cell_type": "code",
   "execution_count": 25,
   "metadata": {},
   "outputs": [
    {
     "name": "stdout",
     "output_type": "stream",
     "text": [
      "False\n",
      "hello world\n",
      "hello world\n",
      "hello world\n",
      "\n"
     ]
    }
   ],
   "source": [
    "#reading file 'with open'\n",
    "with open('D:\\DATA SCIENCE\\sublime files\\sample.txt','r') as f :#f is the file handle/cursor which points at file content\n",
    "    print(f.closed)#using f.closed ensures that file is closed automatically after execution\n",
    "    #so it maintains cleanup and also prints True or false based file is open or not\n",
    "    print(f.read())\n"
   ]
  },
  {
   "cell_type": "code",
   "execution_count": 27,
   "metadata": {},
   "outputs": [
    {
     "name": "stdout",
     "output_type": "stream",
     "text": [
      "True\n"
     ]
    }
   ],
   "source": [
    "print(f.closed)#it will be true bcz file has been automatically closed\n"
   ]
  },
  {
   "cell_type": "code",
   "execution_count": 28,
   "metadata": {},
   "outputs": [
    {
     "name": "stdout",
     "output_type": "stream",
     "text": [
      " world\n",
      "hello world\n",
      "hello world\n",
      "\n"
     ]
    }
   ],
   "source": [
    "#seek function,it tells file handle or cursor from where to start reading file\n",
    "with open('D:\\DATA SCIENCE\\sublime files\\sample.txt','r') as b:\n",
    "    b.seek(5)#cursor will read from 6th alphabet\n",
    "    print(b.read())\n"
   ]
  }
 ],
 "metadata": {
  "kernelspec": {
   "display_name": "Python 3",
   "language": "python",
   "name": "python3"
  },
  "language_info": {
   "codemirror_mode": {
    "name": "ipython",
    "version": 3
   },
   "file_extension": ".py",
   "mimetype": "text/x-python",
   "name": "python",
   "nbconvert_exporter": "python",
   "pygments_lexer": "ipython3",
   "version": "3.7.3"
  }
 },
 "nbformat": 4,
 "nbformat_minor": 2
}
