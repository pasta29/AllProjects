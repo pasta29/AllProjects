{
 "cells": [
  {
   "cell_type": "code",
   "execution_count": 4,
   "metadata": {},
   "outputs": [
    {
     "name": "stdout",
     "output_type": "stream",
     "text": [
      "<class 'dict'>\n",
      "{'name': 'A1', 'age': 30}\n"
     ]
    }
   ],
   "source": [
    "import json\n",
    "\n",
    "book={'name':'learning python',\n",
    "      'page':320,\n",
    "      'authors':[\n",
    "          { \n",
    "              'name':'A1',\n",
    "              'age':30,},\n",
    "          {'name':'A2',\n",
    "           'age':40}\n",
    "                ]\n",
    "     } \n",
    "\n",
    "print(type(book))\n",
    "print(book['authors'][0])\n",
    "          "
   ]
  },
  {
   "cell_type": "code",
   "execution_count": 5,
   "metadata": {},
   "outputs": [],
   "source": [
    "#writing in a json file\n",
    "with open('myjsonfile.json','w') as f:#opening in write mode in file handler f\n",
    "    json.dump(book,f) #it will write book value in json file,if file name not exist it will create file\n",
    "    "
   ]
  },
  {
   "cell_type": "code",
   "execution_count": 6,
   "metadata": {},
   "outputs": [
    {
     "name": "stdout",
     "output_type": "stream",
     "text": [
      "<class 'str'>\n",
      "{\"name\": \"learning python\", \"page\": 320, \"authors\": [{\"name\": \"A1\", \"age\": 30}, {\"name\": \"A2\", \"age\": 40}]}\n"
     ]
    }
   ],
   "source": [
    "s=json.dumps(book)#it will return a string for book value\n",
    "print(type(s))\n",
    "print(s)\n",
    "#dump and dumps are methods to serialise i.e creating python file/object from RAM"
   ]
  },
  {
   "cell_type": "code",
   "execution_count": 7,
   "metadata": {},
   "outputs": [
    {
     "name": "stdout",
     "output_type": "stream",
     "text": [
      "<class 'dict'>\n",
      "{'name': 'learning python', 'page': 320, 'authors': [{'name': 'A1', 'age': 30}, {'name': 'A2', 'age': 40}]}\n"
     ]
    }
   ],
   "source": [
    "#we can deserialise above block string name 's' using loads\n",
    "obj=json.loads(s)\n",
    "print(type(obj))#now it's not string\n",
    "print(obj)"
   ]
  },
  {
   "cell_type": "code",
   "execution_count": 8,
   "metadata": {},
   "outputs": [
    {
     "name": "stdout",
     "output_type": "stream",
     "text": [
      "{'name': 'learning python', 'page': 320, 'authors': [{'name': 'A1', 'age': 30}, {'name': 'A2', 'age': 40}]}\n"
     ]
    }
   ],
   "source": [
    "#reading jason file\n",
    "with open('myjsonfile.json','r') as f :\n",
    "    data=json.load(f)\n",
    "    print(data)#if data is large then it's difficult to read in output so we can use pprint"
   ]
  },
  {
   "cell_type": "code",
   "execution_count": 10,
   "metadata": {},
   "outputs": [
    {
     "name": "stdout",
     "output_type": "stream",
     "text": [
      "{'authors': [{'age': 30, 'name': 'A1'}, {'age': 40, 'name': 'A2'}],\n",
      " 'name': 'learning python',\n",
      " 'page': 320}\n"
     ]
    }
   ],
   "source": [
    "#using pprint\n",
    "import pprint\n",
    "with open('myjsonfile.json','r') as f :\n",
    "    data=json.load(f)\n",
    "    pprint.pprint(data)#now it's easily readable in output"
   ]
  }
 ],
 "metadata": {
  "kernelspec": {
   "display_name": "Python 3",
   "language": "python",
   "name": "python3"
  },
  "language_info": {
   "codemirror_mode": {
    "name": "ipython",
    "version": 3
   },
   "file_extension": ".py",
   "mimetype": "text/x-python",
   "name": "python",
   "nbconvert_exporter": "python",
   "pygments_lexer": "ipython3",
   "version": "3.7.3"
  }
 },
 "nbformat": 4,
 "nbformat_minor": 2
}
