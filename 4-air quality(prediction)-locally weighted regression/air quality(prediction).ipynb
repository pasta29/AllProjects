{
 "cells": [
  {
   "cell_type": "code",
   "execution_count": 1,
   "metadata": {},
   "outputs": [],
   "source": [
    "import numpy as np\n",
    "import pandas as pd\n",
    "import matplotlib.pyplot as plt"
   ]
  },
  {
   "cell_type": "code",
   "execution_count": 2,
   "metadata": {},
   "outputs": [],
   "source": [
    "#loading data \n",
    "dfx=pd.read_csv('./Train/Train.csv')\n",
    "dfx_test=pd.read_csv('./Test/Test.csv')\n"
   ]
  },
  {
   "cell_type": "code",
   "execution_count": 4,
   "metadata": {},
   "outputs": [
    {
     "name": "stdout",
     "output_type": "stream",
     "text": [
      "(1600, 5)\n",
      "(1600, 1)\n"
     ]
    }
   ],
   "source": [
    "#X-Xtrain, Y-Ytrain\n",
    "\n",
    "X=dfx.values[:,0:5] \n",
    "\n",
    "Y=dfx.values[:,5].reshape(X.shape[0],1) #reshape from 1d to 2d  \n",
    "print(X.shape)\n",
    "print(Y.shape)"
   ]
  },
  {
   "cell_type": "code",
   "execution_count": 5,
   "metadata": {},
   "outputs": [
    {
     "name": "stdout",
     "output_type": "stream",
     "text": [
      "(400, 5)\n",
      "[ 1.01525387  2.07620944 -0.26643482 -2.4180882  -0.98050279]\n"
     ]
    }
   ],
   "source": [
    "X_test=dfx_test.values\n",
    "print(X_test.shape)\n",
    "print(X_test[0]) #1st example\n"
   ]
  },
  {
   "cell_type": "code",
   "execution_count": 6,
   "metadata": {},
   "outputs": [],
   "source": [
    "#normalise\n",
    "X=(X-X.mean())/X.std()"
   ]
  },
  {
   "cell_type": "code",
   "execution_count": 7,
   "metadata": {},
   "outputs": [],
   "source": [
    "#implementing locally weighted regression\n",
    "def getW(query_point,X,tau):\n",
    "    M=X.shape[0]\n",
    "    W=np.mat(np.eye(M))\n",
    "    \n",
    "    for i in range(M):\n",
    "        xi=X[i]\n",
    "        x=query_point\n",
    "        W[i,i]=np.exp(np.dot((xi-x),(xi-x).T)/(-2*tau*tau)) \n",
    "        \n",
    "    return W    \n",
    "    \n",
    "def predict(X,Y,query_x,tau):\n",
    "    X=np.mat(X)\n",
    "    Y=np.mat(Y)\n",
    "    \n",
    "    M=X.shape[0]\n",
    "    ones=np.ones((M,1))\n",
    "    X_=np.hstack((X,ones))  \n",
    "    \n",
    "    \n",
    "                             \n",
    "    \n",
    "    qx=np.hstack((query_x,1)) \n",
    "    W=getW(qx,X_,tau)\n",
    "    \n",
    "    \n",
    "    theta=np.linalg.pinv(X_.T*(W*X_)) * (X_.T*(W*Y))  \n",
    "    \n",
    "    #print(theta.shape)\n",
    "    \n",
    "    pred=np.dot(qx,theta) \n",
    "    \n",
    "    return theta,pred    "
   ]
  },
  {
   "cell_type": "code",
   "execution_count": 8,
   "metadata": {},
   "outputs": [
    {
     "data": {
      "text/plain": [
       "array([[[122.20714473]],\n",
       "\n",
       "       [[100.19979882]],\n",
       "\n",
       "       [[-35.45861015]],\n",
       "\n",
       "       [[-35.17696837]],\n",
       "\n",
       "       [[-65.89709115]]])"
      ]
     },
     "execution_count": 8,
     "metadata": {},
     "output_type": "execute_result"
    }
   ],
   "source": [
    "#predictions\n",
    "examples=X_test.shape[0]\n",
    "output=[]\n",
    "for i in range(examples):\n",
    "    theta,pred=predict(X,Y,X_test[i],0.1)\n",
    "    output.append(pred[0][0])\n",
    "    \n",
    "    \n",
    "result=np.array(output)\n",
    "result[:5]    \n",
    "    \n"
   ]
  },
  {
   "cell_type": "code",
   "execution_count": null,
   "metadata": {},
   "outputs": [],
   "source": []
  }
 ],
 "metadata": {
  "kernelspec": {
   "display_name": "Python 3",
   "language": "python",
   "name": "python3"
  },
  "language_info": {
   "codemirror_mode": {
    "name": "ipython",
    "version": 3
   },
   "file_extension": ".py",
   "mimetype": "text/x-python",
   "name": "python",
   "nbconvert_exporter": "python",
   "pygments_lexer": "ipython3",
   "version": "3.7.3"
  }
 },
 "nbformat": 4,
 "nbformat_minor": 2
}
