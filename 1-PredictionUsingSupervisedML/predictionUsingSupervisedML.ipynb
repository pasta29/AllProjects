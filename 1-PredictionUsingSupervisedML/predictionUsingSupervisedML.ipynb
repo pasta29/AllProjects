{
 "cells": [
  {
   "cell_type": "markdown",
   "metadata": {},
   "source": [
    "# Mehboob Raza\n",
    "#  Data Science & Business Analytics Task\n",
    "# Intern @The Sparks Foundation\n",
    "\n",
    "## Task-prediction using supervised ML(Linear Regression)\n",
    "\n"
   ]
  },
  {
   "cell_type": "code",
   "execution_count": 1,
   "metadata": {},
   "outputs": [],
   "source": [
    "import numpy as np\n",
    "import pandas as pd\n",
    "import matplotlib.pyplot as plt"
   ]
  },
  {
   "cell_type": "code",
   "execution_count": 2,
   "metadata": {},
   "outputs": [
    {
     "data": {
      "text/html": [
       "<div>\n",
       "<style scoped>\n",
       "    .dataframe tbody tr th:only-of-type {\n",
       "        vertical-align: middle;\n",
       "    }\n",
       "\n",
       "    .dataframe tbody tr th {\n",
       "        vertical-align: top;\n",
       "    }\n",
       "\n",
       "    .dataframe thead th {\n",
       "        text-align: right;\n",
       "    }\n",
       "</style>\n",
       "<table border=\"1\" class=\"dataframe\">\n",
       "  <thead>\n",
       "    <tr style=\"text-align: right;\">\n",
       "      <th></th>\n",
       "      <th>Hours</th>\n",
       "      <th>Scores</th>\n",
       "    </tr>\n",
       "  </thead>\n",
       "  <tbody>\n",
       "    <tr>\n",
       "      <th>0</th>\n",
       "      <td>2.5</td>\n",
       "      <td>21</td>\n",
       "    </tr>\n",
       "    <tr>\n",
       "      <th>1</th>\n",
       "      <td>5.1</td>\n",
       "      <td>47</td>\n",
       "    </tr>\n",
       "    <tr>\n",
       "      <th>2</th>\n",
       "      <td>3.2</td>\n",
       "      <td>27</td>\n",
       "    </tr>\n",
       "    <tr>\n",
       "      <th>3</th>\n",
       "      <td>8.5</td>\n",
       "      <td>75</td>\n",
       "    </tr>\n",
       "    <tr>\n",
       "      <th>4</th>\n",
       "      <td>3.5</td>\n",
       "      <td>30</td>\n",
       "    </tr>\n",
       "    <tr>\n",
       "      <th>5</th>\n",
       "      <td>1.5</td>\n",
       "      <td>20</td>\n",
       "    </tr>\n",
       "    <tr>\n",
       "      <th>6</th>\n",
       "      <td>9.2</td>\n",
       "      <td>88</td>\n",
       "    </tr>\n",
       "    <tr>\n",
       "      <th>7</th>\n",
       "      <td>5.5</td>\n",
       "      <td>60</td>\n",
       "    </tr>\n",
       "    <tr>\n",
       "      <th>8</th>\n",
       "      <td>8.3</td>\n",
       "      <td>81</td>\n",
       "    </tr>\n",
       "    <tr>\n",
       "      <th>9</th>\n",
       "      <td>2.7</td>\n",
       "      <td>25</td>\n",
       "    </tr>\n",
       "  </tbody>\n",
       "</table>\n",
       "</div>"
      ],
      "text/plain": [
       "   Hours  Scores\n",
       "0    2.5      21\n",
       "1    5.1      47\n",
       "2    3.2      27\n",
       "3    8.5      75\n",
       "4    3.5      30\n",
       "5    1.5      20\n",
       "6    9.2      88\n",
       "7    5.5      60\n",
       "8    8.3      81\n",
       "9    2.7      25"
      ]
     },
     "execution_count": 2,
     "metadata": {},
     "output_type": "execute_result"
    }
   ],
   "source": [
    "#loading data\n",
    "\n",
    "link='http://bit.ly/w-data'\n",
    "data=pd.read_csv(link)\n",
    "\n",
    "data.head(n=10)\n"
   ]
  },
  {
   "cell_type": "code",
   "execution_count": 3,
   "metadata": {},
   "outputs": [
    {
     "name": "stdout",
     "output_type": "stream",
     "text": [
      "<class 'numpy.ndarray'>\n",
      "(25, 2)\n",
      "[[ 2.5 21. ]\n",
      " [ 5.1 47. ]\n",
      " [ 3.2 27. ]\n",
      " [ 8.5 75. ]\n",
      " [ 3.5 30. ]\n",
      " [ 1.5 20. ]\n",
      " [ 9.2 88. ]\n",
      " [ 5.5 60. ]\n",
      " [ 8.3 81. ]\n",
      " [ 2.7 25. ]\n",
      " [ 7.7 85. ]\n",
      " [ 5.9 62. ]\n",
      " [ 4.5 41. ]\n",
      " [ 3.3 42. ]\n",
      " [ 1.1 17. ]\n",
      " [ 8.9 95. ]\n",
      " [ 2.5 30. ]\n",
      " [ 1.9 24. ]\n",
      " [ 6.1 67. ]\n",
      " [ 7.4 69. ]\n",
      " [ 2.7 30. ]\n",
      " [ 4.8 54. ]\n",
      " [ 3.8 35. ]\n",
      " [ 6.9 76. ]\n",
      " [ 7.8 86. ]]\n"
     ]
    }
   ],
   "source": [
    "#converting data to numpy array\n",
    "data_array=data.values\n",
    "print(type(data_array))\n",
    "print(data_array.shape)\n",
    "print(data_array)"
   ]
  },
  {
   "cell_type": "code",
   "execution_count": 4,
   "metadata": {},
   "outputs": [],
   "source": [
    "xdata=data_array[:,0]\n",
    "ydata=data_array[:,1].astype(int)"
   ]
  },
  {
   "cell_type": "code",
   "execution_count": 5,
   "metadata": {},
   "outputs": [],
   "source": [
    "u=xdata.mean()   #mean\n",
    "std=xdata.std()  #standard deviation\n",
    "xdata=(xdata-u)/std  #normalization formula"
   ]
  },
  {
   "cell_type": "code",
   "execution_count": 6,
   "metadata": {},
   "outputs": [
    {
     "name": "stdout",
     "output_type": "stream",
     "text": [
      "5.012\n",
      "2.47407679751458\n"
     ]
    },
    {
     "data": {
      "text/plain": [
       "1.0"
      ]
     },
     "execution_count": 6,
     "metadata": {},
     "output_type": "execute_result"
    }
   ],
   "source": [
    "print(u)\n",
    "print(std)\n",
    "xdata.std() #now it is normalised as standard deviation is 1"
   ]
  },
  {
   "cell_type": "code",
   "execution_count": 7,
   "metadata": {},
   "outputs": [
    {
     "data": {
      "image/png": "[encoded data removed]",
      "text/plain": [
       "<Figure size 576x396 with 1 Axes>"
      ]
     },
     "metadata": {},
     "output_type": "display_data"
    }
   ],
   "source": [
    "#visualize\n",
    "plt.style.use('seaborn')\n",
    "\n",
    "plt.scatter(xdata,ydata,color='green')\n",
    "plt.title('score vs hour graph')\n",
    "plt.xlabel('hour')\n",
    "plt.ylabel('scores')\n",
    "plt.show()"
   ]
  },
  {
   "cell_type": "code",
   "execution_count": 8,
   "metadata": {},
   "outputs": [],
   "source": [
    "#split: for test & train data\n",
    "from sklearn.model_selection import train_test_split  \n",
    "Xtrain, Xtest, ytrain, ytest = train_test_split(xdata,ydata, \n",
    "                            test_size=0.2, random_state=0) "
   ]
  },
  {
   "cell_type": "code",
   "execution_count": 9,
   "metadata": {},
   "outputs": [],
   "source": [
    "#reshaping to 2-d dimension\n",
    "xtrain=Xtrain.reshape(-1,1)\n",
    "ytrain=ytrain.reshape(-1,1)\n",
    "xtest=Xtest.reshape(-1,1)\n",
    "ytest=ytest.reshape(-1,1)"
   ]
  },
  {
   "cell_type": "code",
   "execution_count": 10,
   "metadata": {},
   "outputs": [],
   "source": [
    "#implementing linear regression from scratch, without using python package/library \n",
    "\n",
    "def hypothesis(x,theta):\n",
    "    y_= theta[0] + theta[1] * x \n",
    "    return y_\n",
    "\n",
    "def gradient(X,Y,theta):\n",
    "    m=X.shape[0]\n",
    "    grad=np.zeros((2,)) #initializing\n",
    "    for i in range(m):\n",
    "        x=X[i]\n",
    "        y_=hypothesis(x,theta)\n",
    "        y=Y[i]\n",
    "        \n",
    "        grad[0]+=(y_ - y)\n",
    "        grad[1]+=(y_ - y) * x\n",
    "        \n",
    "    return grad/m   \n",
    "\n",
    "\n",
    "def error(X,Y,theta):\n",
    "    m=X.shape[0]\n",
    "    total_error=0.0\n",
    "    for i in range(m):\n",
    "        y_=hypothesis(X[i],theta)\n",
    "        total_error += (y_ - Y[i])**2\n",
    "        \n",
    "    return total_error/m  #mean square error    \n",
    "\n",
    "\n",
    "def gradientDescent(X,Y,max_steps=100,learning_rate=0.1):\n",
    "    \n",
    "    theta=np.zeros((2,))\n",
    "    error_list=[]\n",
    "    theta_list=[]   #just to store all values from initial to final\n",
    "    for i in range(max_steps):\n",
    "        #compute grad\n",
    "        grad=gradient(X,Y,theta)\n",
    "        e=error(X,Y,theta)\n",
    "        error_list.append(e)\n",
    "        theta_list.append((theta[0],theta[1]))\n",
    "        \n",
    "        #update theta(final update)\n",
    "        theta[0]=theta[0]-learning_rate * grad[0]\n",
    "        theta[1]=theta[1]-learning_rate * grad[1]\n",
    "        \n",
    "        \n",
    "    return theta,error_list,theta_list   \n",
    "        \n",
    "        \n",
    "    "
   ]
  },
  {
   "cell_type": "code",
   "execution_count": 11,
   "metadata": {},
   "outputs": [],
   "source": [
    "theta,error_list,theta_list=gradientDescent(xtrain,ytrain)"
   ]
  },
  {
   "cell_type": "code",
   "execution_count": 12,
   "metadata": {},
   "outputs": [
    {
     "name": "stdout",
     "output_type": "stream",
     "text": [
      "[51.68898553 24.52037202]\n"
     ]
    }
   ],
   "source": [
    "#theta/weights value for decison line\n",
    "print(theta)"
   ]
  },
  {
   "cell_type": "code",
   "execution_count": 13,
   "metadata": {},
   "outputs": [
    {
     "data": {
      "text/plain": [
       "[(0.0, 0.0),\n",
       " (5.3950000000000005, 2.9721227762157487),\n",
       " (10.223110228039083, 5.592006835835521),\n",
       " (14.544265737888836, 7.900729389027875),\n",
       " (18.412029528501414, 9.934634222053749),\n",
       " (21.874273370637436, 11.725872216056997),\n",
       " (24.973785569648452, 13.302880574359087),\n",
       " (27.74881353563387, 14.690807670204272),\n",
       " (30.233548181372875, 15.911889650823802),\n",
       " (32.45855640984625, 16.985784244444734),\n",
       " (34.451167276787984, 17.92986660477198),\n",
       " (36.23581681060944, 18.759491483911557),\n",
       " (37.83435593426125, 19.48822554202694),\n",
       " (39.2663254540456, 20.128053173430207),\n",
       " (40.54920165274501, 20.689558848263168),\n",
       " (41.69861564305764, 21.18208863105251),\n",
       " (42.72854929720542, 21.613893237457166),\n",
       " (43.65151026523345, 21.992254724226928),\n",
       " (44.478688323960775, 22.32359867099319),\n",
       " (45.22009505721813, 22.613593502670128),\n",
       " (45.884688652750555, 22.8672384149849),\n",
       " (46.480485409146816, 23.08894120033809),\n",
       " (47.014659374867115, 23.28258712447492),\n",
       " (47.49363138863102, 23.45159987423961),\n",
       " (47.923148654099016, 23.59899548113879),\n",
       " (48.30835586015008, 23.72743002291068),\n",
       " (48.65385874953493, 23.83924181432465),\n",
       " (48.96378094185218, 23.936488717723286),\n",
       " (49.241814730389294, 24.020981132214533),\n",
       " (49.49126649526574, 24.094311156901462),\n",
       " (49.71509730650626, 24.157878367193206),\n",
       " (49.915959229263756, 24.212912593265813),\n",
       " (50.096227788603635, 24.260494045419545),\n",
       " (50.25803100234332, 24.301571091773496),\n",
       " (50.40327534677641, 24.336975958884214),\n",
       " (50.53366898113443, 24.36743859497097),\n",
       " (50.650742521845096, 24.39359890803106),\n",
       " (50.75586762658361, 24.416017566838704),\n",
       " (50.85027362038165, 24.43518553129002),\n",
       " (50.93506237129799, 24.45153245947248),\n",
       " (51.01122160104617, 24.465434121923984),\n",
       " (51.07963679623293, 24.477218938558533),\n",
       " (51.141101868231345, 24.487173740455088),\n",
       " (51.19632869396852, 24.495548846939695),\n",
       " (51.245955655846394, 24.50256253796756),\n",
       " (51.29055528645498, 24.508404992578683),\n",
       " (51.33064111251919, 24.51324175602314),\n",
       " (51.36667378249945, 24.517216790910435),\n",
       " (51.39906655331427, 24.520455161324993),\n",
       " (51.42819020365491, 24.523065393172807),\n",
       " (51.45437743421662, 24.525141548998672),\n",
       " (51.477926808786236, 24.526765051065276),\n",
       " (51.49910628442027, 24.52800628254887),\n",
       " (51.51815637384928, 24.528925993222906),\n",
       " (51.53529297868767, 24.529576532919315),\n",
       " (51.55070992795545, 24.53000293333094),\n",
       " (51.564581252778424, 24.530243856307667),\n",
       " (51.57706322487926, 24.530332424666504),\n",
       " (51.5882961835631, 24.530296949650964),\n",
       " (51.598406173300646, 24.530161567508472),\n",
       " (51.60750641168652, 24.529946796181807),\n",
       " (51.61569860547158, 24.52967002180905),\n",
       " (51.62307413050861, 24.5293459235766),\n",
       " (51.62971508978824, 24.528986844454234),\n",
       " (51.63569526225464, 24.52860311444408),\n",
       " (51.64108095376084, 24.52820333218347),\n",
       " (51.64593176033332, 24.52779461004252),\n",
       " (51.650301252851435, 24.527382787240274),\n",
       " (51.65423759129496, 24.526972614958872),\n",
       " (51.657784075860874, 24.52656791695505),\n",
       " (51.66097964148841, 24.526171728744753),\n",
       " (51.66385930164891, 24.5257864180634),\n",
       " (51.66645454664657, 24.525413788975154),\n",
       " (51.66879370112971, 24.52505517171478),\n",
       " (51.67090224502295, 24.52471150009018),\n",
       " (51.6728031016529, 24.524383378048856),\n",
       " (51.6745168964478, 24.524071136813582),\n",
       " (51.676062189240646, 24.52377488381842),\n",
       " (51.67745568289108, 24.5234945445229),\n",
       " (51.678712410659706, 24.52322989804756),\n",
       " (51.679845904516604, 24.522980607455498),\n",
       " (51.6808683463399, 24.522746245400636),\n",
       " (51.681790703758146, 24.522526315771973),\n",
       " (51.68262285220897, 24.52232027188289),\n",
       " (51.68337368462428, 24.522127531684184),\n",
       " (51.68405121000667, 24.521947490417837),\n",
       " (51.68466264203169, 24.52177953107435),\n",
       " (51.685214478693396, 24.521623032969174),\n",
       " (51.68571257390641, 24.521477378712156),\n",
       " (51.68616220188348, 24.521341959807796),\n",
       " (51.686568115023704, 24.52121618109215),\n",
       " (51.686934595971046, 24.521099464184683),\n",
       " (51.68726550443517, 24.520991250109),\n",
       " (51.68756431930605, 24.52089100121534),\n",
       " (51.687834176539404, 24.52079820251931),\n",
       " (51.68807790324126, 24.52071236255518),\n",
       " (51.68829804833616, 24.52063301382824),\n",
       " (51.68849691016442, 24.520559712938468),\n",
       " (51.68867656131851, 24.520492040437322),\n",
       " (51.688838870997095, 24.520429600470184)]"
      ]
     },
     "execution_count": 13,
     "metadata": {},
     "output_type": "execute_result"
    }
   ],
   "source": [
    "theta_list #it has all values of theta(history of theta)"
   ]
  },
  {
   "cell_type": "code",
   "execution_count": 14,
   "metadata": {},
   "outputs": [
    {
     "data": {
      "text/plain": [
       "[array([3548.35]),\n",
       " array([2830.61189438]),\n",
       " array([2259.75148049]),\n",
       " array([1805.63632507]),\n",
       " array([1444.32917918]),\n",
       " array([1156.81187631]),\n",
       " array([927.97250733]),\n",
       " array([745.80148001]),\n",
       " array([600.75332168]),\n",
       " array([485.24000435]),\n",
       " array([393.22864596]),\n",
       " array([319.92205191]),\n",
       " array([261.50501046]),\n",
       " array([214.94278482]),\n",
       " array([177.82104399]),\n",
       " array([148.21869511]),\n",
       " array([124.60684166]),\n",
       " array([105.76848953]),\n",
       " array([90.73473186]),\n",
       " array([78.73402359]),\n",
       " array([69.15185479]),\n",
       " array([61.49868622]),\n",
       " array([55.38445042]),\n",
       " array([50.49827056]),\n",
       " array([46.59232677]),\n",
       " array([43.46901955]),\n",
       " array([40.97075468]),\n",
       " array([38.97181276]),\n",
       " array([37.3718767]),\n",
       " array([36.09087818]),\n",
       " array([35.06489337]),\n",
       " array([34.24287361]),\n",
       " array([33.58404075]),\n",
       " array([33.05581142]),\n",
       " array([32.63214254]),\n",
       " array([32.29221226]),\n",
       " array([32.01936803]),\n",
       " array([31.80028759]),\n",
       " array([31.62430952]),\n",
       " array([31.48289903]),\n",
       " array([31.36922141]),\n",
       " array([31.2778016]),\n",
       " array([31.20425213]),\n",
       " array([31.14505589]),\n",
       " array([31.0973924]),\n",
       " array([31.05899907]),\n",
       " array([31.02806014]),\n",
       " array([31.00311789]),\n",
       " array([30.98300162]),\n",
       " array([30.96677074]),\n",
       " array([30.95366929]),\n",
       " array([30.94308942]),\n",
       " array([30.93454219]),\n",
       " array([30.92763415]),\n",
       " array([30.92204857]),\n",
       " array([30.91753036]),\n",
       " array([30.91387402]),\n",
       " array([30.91091388]),\n",
       " array([30.90851637]),\n",
       " array([30.90657375]),\n",
       " array([30.90499904]),\n",
       " array([30.90372204]),\n",
       " array([30.90268604]),\n",
       " array([30.9018452]),\n",
       " array([30.9011625]),\n",
       " array([30.90060796]),\n",
       " array([30.90015735]),\n",
       " array([30.89979104]),\n",
       " array([30.89949315]),\n",
       " array([30.8992508]),\n",
       " array([30.89905357]),\n",
       " array([30.89889299]),\n",
       " array([30.8987622]),\n",
       " array([30.89865565]),\n",
       " array([30.8985688]),\n",
       " array([30.89849799]),\n",
       " array([30.89844023]),\n",
       " array([30.89839311]),\n",
       " array([30.89835465]),\n",
       " array([30.89832326]),\n",
       " array([30.89829761]),\n",
       " array([30.89827666]),\n",
       " array([30.89825954]),\n",
       " array([30.89824555]),\n",
       " array([30.89823411]),\n",
       " array([30.89822475]),\n",
       " array([30.89821709]),\n",
       " array([30.89821082]),\n",
       " array([30.89820569]),\n",
       " array([30.89820149]),\n",
       " array([30.89819805]),\n",
       " array([30.89819523]),\n",
       " array([30.89819292]),\n",
       " array([30.89819103]),\n",
       " array([30.89818948]),\n",
       " array([30.89818821]),\n",
       " array([30.89818716]),\n",
       " array([30.89818631]),\n",
       " array([30.89818561]),\n",
       " array([30.89818503])]"
      ]
     },
     "execution_count": 14,
     "metadata": {},
     "output_type": "execute_result"
    }
   ],
   "source": [
    "error_list #error can be reduced to almost zero if other methods are used such as logistic regression"
   ]
  },
  {
   "cell_type": "code",
   "execution_count": 15,
   "metadata": {},
   "outputs": [
    {
     "data": {
      "image/png": "[encoded data removed]",
      "text/plain": [
       "<Figure size 576x396 with 1 Axes>"
      ]
     },
     "metadata": {},
     "output_type": "display_data"
    }
   ],
   "source": [
    "#plotting error and visualizing on graph how it's reducing and then it becaomes constant after point\n",
    "plt.plot(error_list)\n",
    "plt.title('reduction of error over time')\n",
    "plt.show()"
   ]
  },
  {
   "cell_type": "code",
   "execution_count": 16,
   "metadata": {},
   "outputs": [
    {
     "name": "stdout",
     "output_type": "stream",
     "text": [
      "[[39.67695303]\n",
      " [20.84620902]\n",
      " [79.32062463]\n",
      " [70.40079852]\n",
      " [12.9174747 ]\n",
      " [52.5611463 ]\n",
      " [78.32953284]\n",
      " [34.72149408]\n",
      " [84.27608358]\n",
      " [93.19590969]\n",
      " [62.4720642 ]\n",
      " [36.70367766]\n",
      " [28.77494334]\n",
      " [56.52551346]\n",
      " [28.77494334]\n",
      " [86.25826716]\n",
      " [26.79275976]\n",
      " [49.58787093]\n",
      " [90.22263432]\n",
      " [46.61459556]]\n"
     ]
    }
   ],
   "source": [
    "#PREDICTIONS(from train data) & BEST LINE\n",
    "y_=hypothesis(xtrain,theta) \n",
    "print(y_) \n",
    "#y_=y_.reshape(-1,1)"
   ]
  },
  {
   "cell_type": "code",
   "execution_count": 17,
   "metadata": {},
   "outputs": [
    {
     "data": {
      "image/png": "[encoded data removed]",
      "text/plain": [
       "<Figure size 576x396 with 1 Axes>"
      ]
     },
     "metadata": {},
     "output_type": "display_data"
    }
   ],
   "source": [
    "#visualizing best fit line(decision line)  \n",
    "plt.scatter(xtrain,ytrain)\n",
    "plt.plot(xtrain,y_,color='orange',label='prediction') #orange line is best line\n",
    "plt.legend()                               \n",
    "plt.show()"
   ]
  },
  {
   "cell_type": "code",
   "execution_count": 18,
   "metadata": {},
   "outputs": [
    {
     "data": {
      "text/plain": [
       "(5, 1)"
      ]
     },
     "execution_count": 18,
     "metadata": {},
     "output_type": "execute_result"
    }
   ],
   "source": [
    "#making prediction from test data\n",
    "y_test=hypothesis(xtest,theta)\n",
    "y_test.shape"
   ]
  },
  {
   "cell_type": "code",
   "execution_count": 19,
   "metadata": {},
   "outputs": [
    {
     "data": {
      "text/plain": [
       "array([[16.88184186],\n",
       "       [33.73040229],\n",
       "       [75.35625747],\n",
       "       [26.79275976],\n",
       "       [60.48988062]])"
      ]
     },
     "execution_count": 19,
     "metadata": {},
     "output_type": "execute_result"
    }
   ],
   "source": [
    "y_test"
   ]
  },
  {
   "cell_type": "code",
   "execution_count": 20,
   "metadata": {},
   "outputs": [
    {
     "name": "stdout",
     "output_type": "stream",
     "text": [
      "score after for studying 9.25 hours 93.69145558838859\n"
     ]
    }
   ],
   "source": [
    "#prediction for studying 9.25 hours\n",
    "x_=9.25\n",
    "x_=(x_-u)/std  #normalizing value\n",
    "pred=hypothesis(x_,theta)\n",
    "print('score after studying 9.25 hours',pred)"
   ]
  },
  {
   "cell_type": "code",
   "execution_count": 21,
   "metadata": {},
   "outputs": [],
   "source": [
    "#score: R2(R-squared) or coefficient of determination\n",
    "\n",
    "def r2_score(Y,Y_):\n",
    "    #instead of loop np.sum is recommended it's faster\n",
    "    \n",
    "    numerator=np.sum((Y-Y_)**2)\n",
    "    denominator=np.sum((Y-Y.mean())**2)\n",
    "    \n",
    "    score=(1-(numerator/denominator))\n",
    "    \n",
    "    return score*100"
   ]
  },
  {
   "cell_type": "code",
   "execution_count": 22,
   "metadata": {},
   "outputs": [
    {
     "data": {
      "text/plain": [
       "94.54925879626424"
      ]
     },
     "execution_count": 22,
     "metadata": {},
     "output_type": "execute_result"
    }
   ],
   "source": [
    "r2_score(ytest,y_test) #we are getting almost 94% accuracy"
   ]
  },
  {
   "cell_type": "code",
   "execution_count": null,
   "metadata": {},
   "outputs": [],
   "source": []
  },
  {
   "cell_type": "code",
   "execution_count": null,
   "metadata": {},
   "outputs": [],
   "source": []
  },
  {
   "cell_type": "code",
   "execution_count": null,
   "metadata": {},
   "outputs": [],
   "source": []
  },
  {
   "cell_type": "code",
   "execution_count": null,
   "metadata": {},
   "outputs": [],
   "source": []
  },
  {
   "cell_type": "code",
   "execution_count": null,
   "metadata": {},
   "outputs": [],
   "source": []
  }
 ],
 "metadata": {
  "kernelspec": {
   "display_name": "Python 3",
   "language": "python",
   "name": "python3"
  },
  "language_info": {
   "codemirror_mode": {
    "name": "ipython",
    "version": 3
   },
   "file_extension": ".py",
   "mimetype": "text/x-python",
   "name": "python",
   "nbconvert_exporter": "python",
   "pygments_lexer": "ipython3",
   "version": "3.8.3"
  }
 },
 "nbformat": 4,
 "nbformat_minor": 4
}
